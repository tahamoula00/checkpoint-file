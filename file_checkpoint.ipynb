{
  "nbformat": 4,
  "nbformat_minor": 0,
  "metadata": {
    "colab": {
      "name": "file/checkpoint.ipynb",
      "provenance": []
    },
    "kernelspec": {
      "name": "python3",
      "display_name": "Python 3"
    },
    "language_info": {
      "name": "python"
    }
  },
  "cells": [
    {
      "cell_type": "markdown",
      "metadata": {
        "id": "jF9H5kFRS-Vb"
      },
      "source": [
        "1. Write a Python program to read an entire text file."
      ]
    },
    {
      "cell_type": "code",
      "metadata": {
        "id": "Q2eBEAP2VbT3"
      },
      "source": [
        "\n",
        "\n",
        "  "
      ],
      "execution_count": 4,
      "outputs": []
    },
    {
      "cell_type": "markdown",
      "metadata": {
        "id": "RPer_3L8UNE-"
      },
      "source": [
        "2. Write a Python program to read first n lines of a file."
      ]
    },
    {
      "cell_type": "code",
      "metadata": {
        "colab": {
          "base_uri": "https://localhost:8080/",
          "height": 137
        },
        "id": "l_ACOyGpS8tL",
        "outputId": "fe92a6e5-b118-4e25-a82e-fb040755dd4a"
      },
      "source": [
        "#question1\n",
        "f=open(\"python.txt\",\"r\")\n",
        "f.read()"
      ],
      "execution_count": 3,
      "outputs": [
        {
          "output_type": "execute_result",
          "data": {
            "application/vnd.google.colaboratory.intrinsic+json": {
              "type": "string"
            },
            "text/plain": [
              "'What is Python language?                                                \\nPython is a widely used high-level, general-purpose, interpreted, dynamic programming language.Its design philosophy emphasizes code readability, and its syntax allows programmers to express concepts in fewer lines of code than possible in \\nlanguages such as C++ or Java. \\nPython supports multiple programming paradigms, including object-oriented, imperative and functional programming or procedural styles. It features a dynamic type system and automatic memory management and has a large and comprehensive standard library.The best way we learn anything is by practice and exercise questions. We  have started this section for those (beginner to intermediate) who are familiar with Python.'"
            ]
          },
          "metadata": {},
          "execution_count": 3
        }
      ]
    },
    {
      "cell_type": "markdown",
      "metadata": {
        "id": "U9FuyST7W6FJ"
      },
      "source": [
        "2. Write a Python program to read first n lines of a file."
      ]
    },
    {
      "cell_type": "code",
      "metadata": {
        "colab": {
          "base_uri": "https://localhost:8080/"
        },
        "id": "2LRsxbGtUQVs",
        "outputId": "18eabdc7-6211-4e9f-c032-f1ece7697e9d"
      },
      "source": [
        "#question2\n",
        "f=open(\"python.txt\")\n",
        "n=3\n",
        "for i in range(n):\n",
        "    line = f.readline()\n",
        "    print(line)"
      ],
      "execution_count": 13,
      "outputs": [
        {
          "output_type": "stream",
          "name": "stdout",
          "text": [
            "What is Python language?                                                \n",
            "\n",
            "Python is a widely used high-level, general-purpose, interpreted, dynamic programming language.Its design philosophy emphasizes code readability, and its syntax allows programmers to express concepts in fewer lines of code than possible in \n",
            "\n",
            "languages such as C++ or Java. \n",
            "\n"
          ]
        }
      ]
    },
    {
      "cell_type": "markdown",
      "metadata": {
        "id": "MxOf57Q0Xdfi"
      },
      "source": [
        "3. Write a Python program to read last n lines of a file"
      ]
    },
    {
      "cell_type": "code",
      "metadata": {
        "colab": {
          "base_uri": "https://localhost:8080/"
        },
        "id": "XRIz8X8gXgau",
        "outputId": "c8cb2501-749c-4ab6-fad3-7b185cb9ed0d"
      },
      "source": [
        "#Question3\n",
        "f = open(\"python.txt\")\n",
        "lines = f.readlines()\n",
        "last_lines = lines[-5:]\n",
        "print(last_lines, end=\"\\n\")\n"
      ],
      "execution_count": 19,
      "outputs": [
        {
          "output_type": "stream",
          "name": "stdout",
          "text": [
            "['What is Python language?                                                \\n', 'Python is a widely used high-level, general-purpose, interpreted, dynamic programming language.Its design philosophy emphasizes code readability, and its syntax allows programmers to express concepts in fewer lines of code than possible in \\n', 'languages such as C++ or Java. \\n', 'Python supports multiple programming paradigms, including object-oriented, imperative and functional programming or procedural styles. It features a dynamic type system and automatic memory management and has a large and comprehensive standard library.The best way we learn anything is by practice and exercise questions. We  have started this section for those (beginner to intermediate) who are familiar with Python.']\n"
          ]
        }
      ]
    },
    {
      "cell_type": "markdown",
      "metadata": {
        "id": "11zFUGBBX8T5"
      },
      "source": [
        "4. Write a Python program that takes a text file as input and returns the number of words of a given text file."
      ]
    },
    {
      "cell_type": "code",
      "metadata": {
        "colab": {
          "base_uri": "https://localhost:8080/"
        },
        "id": "Yd7lR0hDX_dd",
        "outputId": "b82a7f1a-429a-421c-c2fb-98ae403ceefe"
      },
      "source": [
        "#Question4\n",
        "f = open(\"python.txt\",\"r\")\n",
        "numwords=0\n",
        "for line in f:\n",
        "  words=line.split()\n",
        "  numwords += len(words)\n",
        "print(numwords)\n"
      ],
      "execution_count": 21,
      "outputs": [
        {
          "output_type": "stream",
          "name": "stdout",
          "text": [
            "100\n"
          ]
        }
      ]
    },
    {
      "cell_type": "markdown",
      "metadata": {
        "id": "THRaMgoNZOvI"
      },
      "source": [
        "5. (bonus) Write a Python program to read last n lines of a file"
      ]
    },
    {
      "cell_type": "code",
      "metadata": {
        "id": "VkALEs_ZZUyO"
      },
      "source": [
        "#question5\n",
        "a repeated question"
      ],
      "execution_count": null,
      "outputs": []
    }
  ]
}